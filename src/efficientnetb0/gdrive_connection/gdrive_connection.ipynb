{
 "cells": [
  {
   "cell_type": "code",
   "execution_count": 6,
   "metadata": {},
   "outputs": [
    {
     "name": "stdout",
     "output_type": "stream",
     "text": [
      "\u001b[31mERROR\u001b[39m: configuration error - config file error: extra keys not allowed @ data['remote']['storage']['gdrive_use_service_account']\n",
      "\u001b[0m"
     ]
    }
   ],
   "source": [
    "import os\n",
    "drive_id = \"15dWw8l_Nd1Ul_h880EwBImsGrbvuYbKk\"\n",
    "\n",
    "os.environ[\"DRIVEID\"] = drive_id\n",
    "\n",
    "## Then run\n",
    "!dvc remote modify storage gdrive_use_service_account true\n",
    "\n"
   ]
  },
  {
   "cell_type": "code",
   "execution_count": 2,
   "metadata": {},
   "outputs": [
    {
     "name": "stdout",
     "output_type": "stream",
     "text": [
      "\u001b[31mERROR\u001b[39m: configuration error - config file error: extra keys not allowed @ data['remote']['storage']['gdrive_use_service_account']\n",
      "\u001b[0m"
     ]
    }
   ],
   "source": [
    "## Then run\n",
    "!dvc remote modify storage gdrive_use_service_account true"
   ]
  }
 ],
 "metadata": {
  "kernelspec": {
   "display_name": "venv",
   "language": "python",
   "name": "python3"
  },
  "language_info": {
   "codemirror_mode": {
    "name": "ipython",
    "version": 3
   },
   "file_extension": ".py",
   "mimetype": "text/x-python",
   "name": "python",
   "nbconvert_exporter": "python",
   "pygments_lexer": "ipython3",
   "version": "3.13.0"
  }
 },
 "nbformat": 4,
 "nbformat_minor": 2
}
